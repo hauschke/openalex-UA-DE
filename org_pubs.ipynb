{
 "cells": [
  {
   "cell_type": "markdown",
   "id": "25bb1b4c",
   "metadata": {},
   "source": [
    "# ORG_Pubs\n",
    "\n",
    "Simple script to get info about pub output for a speicific institution from OpenAlex."
   ]
  },
  {
   "cell_type": "code",
   "execution_count": 26,
   "id": "2f0a846a",
   "metadata": {},
   "outputs": [],
   "source": [
    "# Import libraries\n",
    "import requests\n",
    "import pandas as pd\n",
    "import matplotlib.pyplot as plt\n",
    "import seaborn as sns"
   ]
  },
  {
   "cell_type": "markdown",
   "id": "86a6b1d8",
   "metadata": {},
   "source": [
    "Set parameters. Years are set to 2001 to 2024. To do: Make institution configurable."
   ]
  },
  {
   "cell_type": "code",
   "execution_count": 27,
   "id": "ab808053",
   "metadata": {},
   "outputs": [],
   "source": [
    "# Define base URL\n",
    "base_url = \"https://api.openalex.org/works?page=1&filter=authorships.institutions.lineage:I140025399,publication_year:\"\n",
    "\n",
    "# List of years\n",
    "years = list(range(2001, 2024))\n",
    "\n",
    "# Store the metadata counts\n",
    "metadata_counts = []\n",
    "\n"
   ]
  },
  {
   "cell_type": "markdown",
   "id": "1120bee1",
   "metadata": {},
   "source": [
    "Get and sort data. Each year is queried. Not sure if it is possible in a more elegant way. Print per year to see if it works."
   ]
  },
  {
   "cell_type": "code",
   "execution_count": 28,
   "id": "81e04b3a",
   "metadata": {},
   "outputs": [
    {
     "name": "stdout",
     "output_type": "stream",
     "text": [
      "Year: 2001, Publications: 56\n",
      "Year: 2002, Publications: 38\n",
      "Year: 2003, Publications: 49\n",
      "Year: 2004, Publications: 73\n",
      "Year: 2005, Publications: 37\n",
      "Year: 2006, Publications: 61\n",
      "Year: 2007, Publications: 47\n",
      "Year: 2008, Publications: 58\n",
      "Year: 2009, Publications: 48\n",
      "Year: 2010, Publications: 95\n",
      "Year: 2011, Publications: 65\n",
      "Year: 2012, Publications: 84\n",
      "Year: 2013, Publications: 56\n",
      "Year: 2014, Publications: 107\n",
      "Year: 2015, Publications: 95\n",
      "Year: 2016, Publications: 142\n",
      "Year: 2017, Publications: 136\n",
      "Year: 2018, Publications: 115\n",
      "Year: 2019, Publications: 129\n",
      "Year: 2020, Publications: 105\n",
      "Year: 2021, Publications: 115\n",
      "Year: 2022, Publications: 135\n",
      "Year: 2023, Publications: 119\n"
     ]
    }
   ],
   "source": [
    "# Store the metadata counts\n",
    "metadata_counts = []\n",
    "\n",
    "# Iterate through the list of years\n",
    "for year in years:\n",
    "    # Create the API URL for the institution and specific year\n",
    "    api_url = base_url + str(year)\n",
    "\n",
    "    # Make the API request\n",
    "    response = requests.get(api_url)\n",
    "\n",
    "    # Check if the response is successful (status code 200)\n",
    "    if response.status_code == 200:\n",
    "        data = response.json()\n",
    "\n",
    "        # Get the count of works from the response\n",
    "        count = data[\"meta\"][\"count\"]\n",
    "\n",
    "        # Append the information for the year to the list\n",
    "        metadata_counts.append({\"year\": year, \"publications\": count})\n",
    "\n",
    "        \n",
    "        # Print the progress\n",
    "        print(f\"year: {year}, publications: {count}\")\n"
   ]
  },
  {
   "cell_type": "markdown",
   "id": "ea7f269d",
   "metadata": {},
   "source": [
    "Create a dataframe to make data manipulation and visualization easy."
   ]
  },
  {
   "cell_type": "code",
   "execution_count": 35,
   "id": "3dada110",
   "metadata": {},
   "outputs": [
    {
     "data": {
      "image/png": "[encoded data removed]",
      "text/plain": [
       "<Figure size 1200x500 with 1 Axes>"
      ]
     },
     "metadata": {},
     "output_type": "display_data"
    }
   ],
   "source": [
    "# Check if the metadata_counts list is not empty before creating the DataFrame\n",
    "if metadata_counts:\n",
    "    # Create a DataFrame from the metadata counts\n",
    "    metadata_df = pd.DataFrame(metadata_counts)\n",
    "\n",
    "    # Convert 'Year' column to numeric\n",
    "    metadata_df['Year'] = pd.to_numeric(metadata_df['Year'])\n",
    "\n",
    "    # Create a bar chart of publications per year\n",
    "    plt.figure(figsize=(12, 5))\n",
    "    sns.barplot(x='Year', y='publications', data=metadata_df, color='blue')\n",
    "    plt.title('pubs per year for org')\n",
    "    plt.xlabel('year')\n",
    "    plt.ylabel('publications')\n",
    "    plt.show()\n",
    "else:\n",
    "    print(\"Nothing found\")"
   ]
  },
  {
   "cell_type": "markdown",
   "id": "2c411206",
   "metadata": {},
   "source": [
    "That's it for now. "
   ]
  },
  {
   "cell_type": "code",
   "execution_count": null,
   "id": "6c77bfae",
   "metadata": {},
   "outputs": [],
   "source": []
  }
 ],
 "metadata": {
  "kernelspec": {
   "display_name": "Python 3 (ipykernel)",
   "language": "python",
   "name": "python3"
  },
  "language_info": {
   "codemirror_mode": {
    "name": "ipython",
    "version": 3
   },
   "file_extension": ".py",
   "mimetype": "text/x-python",
   "name": "python",
   "nbconvert_exporter": "python",
   "pygments_lexer": "ipython3",
   "version": "3.10.9"
  }
 },
 "nbformat": 4,
 "nbformat_minor": 5
}
